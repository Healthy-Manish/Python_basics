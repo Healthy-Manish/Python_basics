{
 "cells": [
  {
   "cell_type": "code",
   "execution_count": 10,
   "metadata": {},
   "outputs": [
    {
     "name": "stdout",
     "output_type": "stream",
     "text": [
      "Hello World\n"
     ]
    }
   ],
   "source": [
    "print(\"Hello World\")"
   ]
  },
  {
   "cell_type": "code",
   "execution_count": 11,
   "metadata": {},
   "outputs": [
    {
     "name": "stdout",
     "output_type": "stream",
     "text": [
      "There once was a man named Tom\n",
      "he was 56  years old.\n",
      "He really liked the name Tom\n",
      "but didn't like being 56\n"
     ]
    }
   ],
   "source": [
    "# Variables and Data Types\n",
    "\n",
    "age = \"56\"\n",
    "char_name = \"Tom\"\n",
    "print(\"There once was a man named \"+char_name)\n",
    "print(\"he was \" + age +\"  years old.\")\n",
    "print(\"He really liked the name \"+char_name)\n",
    "print(\"but didn't like being \"+age)"
   ]
  },
  {
   "cell_type": "code",
   "execution_count": 12,
   "metadata": {},
   "outputs": [
    {
     "name": "stdout",
     "output_type": "stream",
     "text": [
      "Girrafe Academy\n",
      "Children's Academy\n",
      "Girrafe Academy is cool\n",
      "girrafe academy\n",
      "False\n",
      "GIRRAFE ACADEMY\n",
      "False\n",
      "15\n",
      "G\n",
      "8\n",
      "Elephant Academy\n",
      "Girrafe Academy\n"
     ]
    }
   ],
   "source": [
    "# Working with string\n",
    "\n",
    "phrase = \"Girrafe Academy\"\n",
    "print(phrase)\n",
    "print(\"Children's Academy\")\n",
    "\n",
    "print(phrase+\" is cool\")\n",
    "\n",
    "# strings functions\n",
    "print(phrase.lower())\n",
    "print(phrase.isupper())\n",
    "print(phrase.upper())\n",
    "print(phrase.lower().isupper())\n",
    "print(len(phrase))\n",
    "print(phrase[0])\n",
    "\n",
    "print(phrase.index('A'))\n",
    "\n",
    "print(phrase.replace(\"Girrafe\",\"Elephant\"))\n",
    "print(phrase)"
   ]
  },
  {
   "cell_type": "code",
   "execution_count": 13,
   "metadata": {},
   "outputs": [
    {
     "name": "stdout",
     "output_type": "stream",
     "text": [
      "17\n",
      "27\n",
      "1\n",
      "5\n",
      "5 my favourite number\n",
      "5\n",
      "9.0\n",
      "3\n",
      "3\n",
      "4\n",
      "6.0\n"
     ]
    }
   ],
   "source": [
    "# Working with numbers in python\n",
    "from math import*\n",
    "# arithmetic operations\n",
    "print(3*4+5)\n",
    "print(3*(4+5))\n",
    "\n",
    "print(10%3)#modulus function\n",
    "my_num = 5\n",
    "print(my_num)\n",
    "print(str(my_num) +  \" my favourite number\")\n",
    "my_num2 = -5\n",
    "print(abs(my_num2))\n",
    "\n",
    "print(pow(3,2))\n",
    "# print(max(34,56))\n",
    "# print(min(34,56))\n",
    "\n",
    "print(round(3.2))\n",
    "print(floor(3.7))\n",
    "print(ceil(3.2))\n",
    "print(sqrt(36))"
   ]
  },
  {
   "cell_type": "code",
   "execution_count": 14,
   "metadata": {},
   "outputs": [
    {
     "name": "stdout",
     "output_type": "stream",
     "text": [
      "Hello  !\n",
      "Your age is \n"
     ]
    }
   ],
   "source": [
    "# inputs in python\n",
    "\n",
    "name = input(\"Enter your name: \")\n",
    "age = input(\"Enter your age: \")\n",
    "print(\"Hello \"+name +\" !\")\n",
    "print(\"Your age is \"+age)"
   ]
  },
  {
   "cell_type": "code",
   "execution_count": 15,
   "metadata": {},
   "outputs": [
    {
     "ename": "ValueError",
     "evalue": "could not convert string to float: ''",
     "output_type": "error",
     "traceback": [
      "\u001b[1;31m---------------------------------------------------------------------------\u001b[0m",
      "\u001b[1;31mValueError\u001b[0m                                Traceback (most recent call last)",
      "Cell \u001b[1;32mIn[15], line 5\u001b[0m\n\u001b[0;32m      3\u001b[0m num1 \u001b[39m=\u001b[39m \u001b[39minput\u001b[39m(\u001b[39m\"\u001b[39m\u001b[39mEnter a number: \u001b[39m\u001b[39m\"\u001b[39m)\n\u001b[0;32m      4\u001b[0m num2 \u001b[39m=\u001b[39m \u001b[39minput\u001b[39m(\u001b[39m\"\u001b[39m\u001b[39mEnter another number: \u001b[39m\u001b[39m\"\u001b[39m)\n\u001b[1;32m----> 5\u001b[0m result \u001b[39m=\u001b[39m \u001b[39mfloat\u001b[39;49m(num1) \u001b[39m+\u001b[39m\u001b[39mfloat\u001b[39m(num2)\n\u001b[0;32m      6\u001b[0m \u001b[39mprint\u001b[39m(result)\n",
      "\u001b[1;31mValueError\u001b[0m: could not convert string to float: ''"
     ]
    }
   ],
   "source": [
    "# building a basic calculator\n",
    "\n",
    "num1 = input(\"Enter a number: \")\n",
    "num2 = input(\"Enter another number: \")\n",
    "result = float(num1) +float(num2)\n",
    "print(result)"
   ]
  },
  {
   "cell_type": "code",
   "execution_count": null,
   "metadata": {},
   "outputs": [
    {
     "name": "stdout",
     "output_type": "stream",
     "text": [
      "Roses are Magenta\n",
      "Microwaves are blue\n",
      "I love Tom Hanks\n"
     ]
    }
   ],
   "source": [
    "# mad-libs game\n",
    "\n",
    "color = input(\"Enter a color: \")\n",
    "plural_noun = input(\"Enter a plural_noun: \")\n",
    "celebrity = input(\"Enter the celebrity: \")\n",
    "\n",
    "print(f\"Roses are {color}\")\n",
    "print(f\"{plural_noun} are blue\")\n",
    "print(f\"I love {celebrity}\")\n"
   ]
  },
  {
   "cell_type": "code",
   "execution_count": null,
   "metadata": {},
   "outputs": [
    {
     "name": "stdout",
     "output_type": "stream",
     "text": [
      "['Kevin', 'Karen', 'Jim', 'Oscar', 'Toby']\n",
      "Karen\n",
      "Toby\n",
      "['Karen', 'Jim']\n",
      "['Kevin', 'Karen', 'Jim', 'Oscar', 'Toby', 'Creed']\n",
      "['Kevin', 'Kelly', 'Karen', 'Jim', 'Oscar', 'Toby', 'Creed']\n",
      "['Kevin', 'Kelly', 'Karen', 'Oscar', 'Toby']\n",
      "1\n",
      "1\n",
      "[4, 8, 16, 23, 42]\n",
      "[42, 23, 16, 8, 4]\n",
      "['Kevin', 'Kelly', 'Karen', 'Oscar', 'Toby']\n"
     ]
    }
   ],
   "source": [
    "# lists in python\n",
    "lucky_numbers = [4,8,16,23,42]\n",
    "friends = [\"Kevin\",\"Karen\",\"Jim\",\"Oscar\",\"Toby\"] \n",
    "print(friends)\n",
    "print(friends[1])\n",
    "print(friends[-1])\n",
    "print(friends[1:3])\n",
    "\n",
    "# functions in python\n",
    "\n",
    "friends.append(\"Creed\")\n",
    "print(friends)\n",
    "friends.insert(1,\"Kelly\")\n",
    "print(friends)\n",
    "friends.remove(\"Jim\")\n",
    "\n",
    "# friends.extend(lucky_numbers)\n",
    "# friends.clear()\n",
    "\n",
    "friends.pop()\n",
    "print(friends)\n",
    "print(friends.index(\"Kelly\"))\n",
    "print(friends.count(\"Oscar\"))\n",
    "\n",
    "lucky_numbers.sort()\n",
    "print(lucky_numbers)\n",
    "lucky_numbers.reverse()\n",
    "print(lucky_numbers)\n",
    "\n",
    "friends2 = friends\n",
    "print(friends2)"
   ]
  },
  {
   "cell_type": "code",
   "execution_count": null,
   "metadata": {},
   "outputs": [
    {
     "name": "stdout",
     "output_type": "stream",
     "text": [
      "4\n",
      "(4, 7)\n",
      "(12, 3)\n"
     ]
    }
   ],
   "source": [
    "# Tuples in python\n",
    "\n",
    "coordinates = (4,5)\n",
    "mul_coordinates = [(2,3),(5,9),(10,5),(4,7)]\n",
    "print(coordinates[0])\n",
    "print(mul_coordinates[3])\n",
    "mul_coordinates[2] = (12,3)\n",
    "print(mul_coordinates[2])"
   ]
  },
  {
   "cell_type": "code",
   "execution_count": null,
   "metadata": {},
   "outputs": [
    {
     "name": "stdout",
     "output_type": "stream",
     "text": [
      "Hello Steve\n",
      "64\n"
     ]
    }
   ],
   "source": [
    "# functions in python\n",
    "def sayhi(name): #def is  a keyword use to create function\n",
    "    print(\"Hello \"+name)\n",
    "\n",
    "sayhi(\"Steve\")\n",
    "\n",
    "def cube(num):\n",
    "    return num*num*num\n",
    "\n",
    "print(cube(4))"
   ]
  },
  {
   "cell_type": "code",
   "execution_count": null,
   "metadata": {},
   "outputs": [
    {
     "name": "stdout",
     "output_type": "stream",
     "text": [
      "You are a male or tall or both\n"
     ]
    }
   ],
   "source": [
    "# If statement\n",
    "is_male = False\n",
    "is_tall = True\n",
    "if is_male or is_tall:\n",
    "    print(\"You are a male or tall or both\")\n",
    "else:\n",
    "    print(\"You are not a male nor tall\")"
   ]
  },
  {
   "cell_type": "code",
   "execution_count": null,
   "metadata": {},
   "outputs": [
    {
     "name": "stdout",
     "output_type": "stream",
     "text": [
      "5\n"
     ]
    }
   ],
   "source": [
    "# comparisons and if-else\n",
    "\n",
    "def max_num(num1,num2,num3):\n",
    "    if num1>=num2 and num1>=num3:\n",
    "        return num1\n",
    "    elif num2>=num1 and num2>=num3:\n",
    "        return num2\n",
    "    else:\n",
    "        return num3\n",
    "    \n",
    "print(max_num(3,4,5))"
   ]
  },
  {
   "cell_type": "code",
   "execution_count": null,
   "metadata": {},
   "outputs": [
    {
     "name": "stdout",
     "output_type": "stream",
     "text": [
      "40.0\n"
     ]
    }
   ],
   "source": [
    "# Calculator\n",
    "\n",
    "num1 = float(input(\"Enter first number: \"))\n",
    "op = input(\"Enter operator: \")\n",
    "num2 = float(input(\"Enter second number: \"))\n",
    "def calculator(num1,op,num2):\n",
    "    if op == '+':\n",
    "        return num1+num2\n",
    "    elif op== '-':\n",
    "        return num1-num2\n",
    "    elif op == '*':\n",
    "        return num1*num2\n",
    "    elif op == '/':\n",
    "        return num1/num2\n",
    "    else:\n",
    "        print(\"Invalid operator\")\n",
    "print(calculator(num1,op,num2))"
   ]
  },
  {
   "cell_type": "code",
   "execution_count": null,
   "metadata": {},
   "outputs": [
    {
     "name": "stdout",
     "output_type": "stream",
     "text": [
      "March\n"
     ]
    },
    {
     "data": {
      "text/plain": [
       "'December'"
      ]
     },
     "execution_count": 95,
     "metadata": {},
     "output_type": "execute_result"
    }
   ],
   "source": [
    "# dictionary\n",
    "monthConversions = {\"Jan\":\"January\",\n",
    "                    \"Feb\":\"February\",\n",
    "                    \"Mar\":\"March\",\n",
    "                    \"Apr\":\"April\",\n",
    "                    \"May\":\"May\",\n",
    "                    \"Jun\":\"July\",\n",
    "                    \"Aug\":\"August\",\n",
    "                    \"Sept\":\"September\",\n",
    "                    \"Oct\":\"October\",\n",
    "                    \"Nov\":\"November\",\n",
    "                    \"Dec\":\"December\"}\n",
    "\n",
    "print(monthConversions[\"Mar\"])\n",
    "monthConversions.get(\"Dec\")\n",
    "monthConversions.get(\"Luv\",\"Not a valid key\") # .get(key,default value if key not found)\n",
    "\n"
   ]
  },
  {
   "cell_type": "code",
   "execution_count": null,
   "metadata": {},
   "outputs": [
    {
     "name": "stdout",
     "output_type": "stream",
     "text": [
      "1\n",
      "2\n",
      "3\n",
      "4\n",
      "5\n",
      "6\n",
      "7\n",
      "8\n",
      "9\n",
      "10\n",
      "Done with loop\n",
      "Out of guesses, You Lose!\n"
     ]
    }
   ],
   "source": [
    "# While loop\n",
    "i = 1\n",
    "while i <=10:\n",
    "    print(i)\n",
    "    i+=1\n",
    "print(\"Done with loop\")\n",
    "#here we come out from loop\n",
    "\n",
    "\n",
    "# building a guessing game\n",
    "\n",
    "secret_word = \"manish\"\n",
    "guess = \"\"\n",
    "guess_count = 0\n",
    "guess_limit = 3\n",
    "out_of_guesses = False\n",
    "while guess != secret_word and not(out_of_guesses):\n",
    "    if guess_count<guess_limit:\n",
    "        guess = input(\"Enter guess: \")\n",
    "        guess_count+=1\n",
    "    else:\n",
    "        out_of_guesses = True\n",
    "if out_of_guesses:\n",
    "    print(\"Out of guesses, You Lose!\")\n",
    "else:\n",
    "    print(\"You Win!\")"
   ]
  },
  {
   "cell_type": "code",
   "execution_count": 16,
   "metadata": {},
   "outputs": [
    {
     "name": "stdout",
     "output_type": "stream",
     "text": [
      "Jim\n",
      "Karen\n",
      "Karen\n"
     ]
    }
   ],
   "source": [
    "# for loop\n",
    "\n",
    "friends = [\"Jim\",\"Karen\",\"Karen\"]\n",
    "# for letter in \"Children's Academy\":\n",
    "#     print(letter)\n",
    "len(friends)\n",
    "for index in range(len(friends)):  \n",
    "    print(friends[index])"
   ]
  },
  {
   "cell_type": "code",
   "execution_count": null,
   "metadata": {},
   "outputs": [],
   "source": []
  }
 ],
 "metadata": {
  "kernelspec": {
   "display_name": "Python 3",
   "language": "python",
   "name": "python3"
  },
  "language_info": {
   "codemirror_mode": {
    "name": "ipython",
    "version": 3
   },
   "file_extension": ".py",
   "mimetype": "text/x-python",
   "name": "python",
   "nbconvert_exporter": "python",
   "pygments_lexer": "ipython3",
   "version": "3.11.4"
  },
  "orig_nbformat": 4
 },
 "nbformat": 4,
 "nbformat_minor": 2
}
